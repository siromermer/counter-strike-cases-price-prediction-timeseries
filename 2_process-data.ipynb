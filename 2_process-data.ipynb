{
 "cells": [
  {
   "cell_type": "markdown",
   "id": "85ea64d7",
   "metadata": {},
   "source": [
    "### Data Processing"
   ]
  },
  {
   "cell_type": "code",
   "execution_count": 1,
   "id": "db040e1a",
   "metadata": {},
   "outputs": [],
   "source": [
    "# Import libraries\n",
    "import pandas as pd\n",
    "import numpy as np\n",
    "import matplotlib.pyplot as plt\n",
    "import seaborn as sns\n",
    "from datetime import datetime\n",
    "\n",
    "# Set plotting style\n",
    "plt.style.use('seaborn-v0_8-darkgrid')\n",
    "sns.set_palette(\"husl\")"
   ]
  },
  {
   "cell_type": "markdown",
   "id": "a566b6b4",
   "metadata": {},
   "source": [
    "<br>\n",
    "\n",
    "###  Load and Combine All Datasets"
   ]
  },
  {
   "cell_type": "code",
   "execution_count": 2,
   "id": "84c42270",
   "metadata": {},
   "outputs": [
    {
     "name": "stdout",
     "output_type": "stream",
     "text": [
      " Price data: 365 days, 50 items\n",
      " Date range: 2024-10-04 00:00:00 to 2025-10-03 00:00:00\n",
      " Price range: $1.24 - $2.43\n"
     ]
    }
   ],
   "source": [
    "# Load price data (50 weapon cases)\n",
    "df_prices = pd.read_csv('csv-files/page12345_steam_cases.csv')\n",
    "df_prices['date'] = pd.to_datetime(df_prices['date'])\n",
    "\n",
    "# Calculate daily average price across all items\n",
    "daily_prices = df_prices.groupby(df_prices['date'].dt.date)['price'].mean().reset_index()\n",
    "daily_prices.columns = ['Date', 'Average_Price']\n",
    "daily_prices['Date'] = pd.to_datetime(daily_prices['Date'])\n",
    "\n",
    "print(f\" Price data: {len(daily_prices)} days, {df_prices['item_name'].nunique()} items\")\n",
    "print(f\" Date range: {daily_prices['Date'].min()} to {daily_prices['Date'].max()}\")\n",
    "print(f\" Price range: ${daily_prices['Average_Price'].min():.2f} - ${daily_prices['Average_Price'].max():.2f}\")"
   ]
  },
  {
   "cell_type": "code",
   "execution_count": 3,
   "id": "5b26d248",
   "metadata": {},
   "outputs": [
    {
     "name": "stdout",
     "output_type": "stream",
     "text": [
      " Player count data: 365 days\n",
      " Date range: 2024-10-04 00:00:00 to 2025-10-03 00:00:00\n",
      " Player range: 870,136 - 1,862,531\n"
     ]
    }
   ],
   "source": [
    "# Load player count data\n",
    "df_players = pd.read_csv('csv-files/csgo_daily_avg_players_last_year.csv')\n",
    "df_players['Date'] = pd.to_datetime(df_players['Date'])\n",
    "\n",
    "print(f\" Player count data: {len(df_players)} days\")\n",
    "print(f\" Date range: {df_players['Date'].min()} to {df_players['Date'].max()}\")\n",
    "print(f\" Player range: {df_players['Average_Players'].min():,.0f} - {df_players['Average_Players'].max():,.0f}\")"
   ]
  },
  {
   "cell_type": "code",
   "execution_count": 4,
   "id": "68398046",
   "metadata": {},
   "outputs": [
    {
     "name": "stdout",
     "output_type": "stream",
     "text": [
      " Tournament data: 365 days\n",
      " Date range: 2024-10-04 00:00:00 to 2025-10-03 00:00:00\n",
      " Tournament days: 178 (48.8%)\n"
     ]
    }
   ],
   "source": [
    "# Load tournament event data\n",
    "df_events = pd.read_csv('csv-files/csgo_tournament_events_daily_last_year.csv')\n",
    "df_events['Date'] = pd.to_datetime(df_events['Date'])\n",
    "\n",
    "print(f\" Tournament data: {len(df_events)} days\")\n",
    "print(f\" Date range: {df_events['Date'].min()} to {df_events['Date'].max()}\")\n",
    "print(f\" Tournament days: {df_events['has_tournament'].sum()} ({df_events['has_tournament'].sum()/len(df_events)*100:.1f}%)\")"
   ]
  },
  {
   "cell_type": "markdown",
   "id": "78a6df39",
   "metadata": {},
   "source": [
    "<br>"
   ]
  },
  {
   "cell_type": "markdown",
   "id": "4d5cccbf",
   "metadata": {},
   "source": [
    "\n",
    "\n",
    "### Restructure for Item-Level Prediction"
   ]
  },
  {
   "cell_type": "code",
   "execution_count": 5,
   "id": "cf429d98",
   "metadata": {},
   "outputs": [
    {
     "name": "stdout",
     "output_type": "stream",
     "text": [
      " Item-level dataset created:\n",
      " Total records: 16,872\n",
      " Unique items: 50\n",
      " Days per item: 337\n",
      " Date range: 2024-10-04 00:00:00 to 2025-10-03 00:00:00\n",
      "\n",
      "              item_name       Date  price  Average_Players  has_tournament\n",
      "0  2020 RMR Challengers 2024-10-04  0.207        1322412.0               0\n",
      "1  2020 RMR Challengers 2024-10-05  0.219        1363110.0               0\n",
      "2  2020 RMR Challengers 2024-10-06  0.224        1462028.0               0\n",
      "3  2020 RMR Challengers 2024-10-07  0.209        1363872.0               1\n",
      "4  2020 RMR Challengers 2024-10-08  0.203        1400121.0               1\n",
      "5  2020 RMR Challengers 2024-10-09  0.194        1395317.0               1\n",
      "6  2020 RMR Challengers 2024-10-10  0.204        1346127.0               1\n",
      "7  2020 RMR Challengers 2024-10-11  0.212        1368886.0               1\n",
      "8  2020 RMR Challengers 2024-10-12  0.223        1498661.0               1\n",
      "9  2020 RMR Challengers 2024-10-13  0.234        1457406.0               1\n"
     ]
    }
   ],
   "source": [
    "# Convert date to date only (remove time)\n",
    "df_prices['date_only'] = df_prices['date'].dt.date\n",
    "df_prices['date_only'] = pd.to_datetime(df_prices['date_only'])\n",
    "\n",
    "# Group by item and date to get daily price per item\n",
    "df_item_daily = df_prices.groupby(['item_name', 'date_only'])['price'].mean().reset_index()\n",
    "df_item_daily.columns = ['item_name', 'Date', 'price']\n",
    "\n",
    "# Merge with player count\n",
    "df_item_daily = df_item_daily.merge(df_players, on='Date', how='left')\n",
    "\n",
    "# Merge with tournament events\n",
    "df_item_daily = df_item_daily.merge(df_events, on='Date', how='left')\n",
    "\n",
    "# Fill missing tournament flags\n",
    "df_item_daily['has_tournament'] = df_item_daily['has_tournament'].fillna(0).astype(int)\n",
    "\n",
    "print(f\" Item-level dataset created:\")\n",
    "print(f\" Total records: {len(df_item_daily):,}\")\n",
    "print(f\" Unique items: {df_item_daily['item_name'].nunique()}\")\n",
    "print(f\" Days per item: {len(df_item_daily) // df_item_daily['item_name'].nunique()}\")\n",
    "print(f\" Date range: {df_item_daily['Date'].min()} to {df_item_daily['Date'].max()}\")\n",
    "print(f\"\\n{df_item_daily.head(10)}\")"
   ]
  },
  {
   "cell_type": "code",
   "execution_count": 7,
   "id": "ca3d64b7",
   "metadata": {},
   "outputs": [
    {
     "name": "stdout",
     "output_type": "stream",
     "text": [
      " Item name encoding (first 10):\n",
      "    0: 2020 RMR Challengers\n",
      "    1: 2020 RMR Contenders\n",
      "    2: 2020 RMR Legends\n",
      "    3: Antwerp 2022 Challengers Autograph Capsule\n",
      "    4: Antwerp 2022 Challengers Sticker Capsule\n",
      "    5: Antwerp 2022 Contenders Sticker Capsule\n",
      "    6: Antwerp 2022 Legends Sticker Capsule\n",
      "    7: Austin 2025 Challengers Sticker Capsule\n",
      "    8: Austin 2025 Contenders Sticker Capsule\n",
      "    9: Austin 2025 Legends Sticker Capsule\n",
      "\n",
      " Total unique items encoded: 50\n",
      " Saved item mapping to: item_mapping.pkl\n"
     ]
    }
   ],
   "source": [
    "# Encode item names (simple numeric encoding)\n",
    "# Create a mapping: item name -> unique integer\n",
    "item_names = df_item_daily['item_name'].unique()\n",
    "item_to_id = {name: idx for idx, name in enumerate(sorted(item_names))}\n",
    "id_to_item = {idx: name for name, idx in item_to_id.items()}\n",
    "\n",
    "df_item_daily['item_encoded'] = df_item_daily['item_name'].map(item_to_id)\n",
    "\n",
    "# Show mapping (first 10 items)\n",
    "print(f\" Item name encoding (first 10):\")\n",
    "for i, (item, code) in enumerate(sorted(item_to_id.items())[:10]):\n",
    "    print(f\"   {code:2d}: {item}\")\n",
    "    \n",
    "print(f\"\\n Total unique items encoded: {len(item_to_id)}\")\n",
    "\n",
    "# Save the mapping for later use (to decode predictions)\n",
    "import pickle\n",
    "with open('csv-files/item_mapping.pkl', 'wb') as f:\n",
    "    pickle.dump({'item_to_id': item_to_id, 'id_to_item': id_to_item}, f)\n",
    "print(f\" Saved item mapping to: item_mapping.pkl\")"
   ]
  },
  {
   "cell_type": "markdown",
   "id": "d916ff90",
   "metadata": {},
   "source": [
    "<br>"
   ]
  },
  {
   "cell_type": "markdown",
   "id": "02cf37ce",
   "metadata": {},
   "source": [
    "### Feature Engineering: Add Lag Features\n",
    "\n",
    "Create `price_lag_1`, `price_lag_2`, and `price_lag_3` features - the prices from 1, 2, and 3 days ago for each item.\n"
   ]
  },
  {
   "cell_type": "code",
   "execution_count": null,
   "id": "2338ecc5",
   "metadata": {},
   "outputs": [
    {
     "name": "stdout",
     "output_type": "stream",
     "text": [
      "✅ Created lag features\n",
      "   - price_lag_1 (yesterday's price)\n",
      "   - price_lag_2 (price from 2 days ago)\n",
      "   - price_lag_3 (price from 3 days ago)\n",
      "\n",
      "📈 Example for first item (showing lag effect):\n",
      "              item_name       Date  price  price_lag_1  price_lag_2  \\\n",
      "0  2020 RMR Challengers 2024-10-04  0.207          NaN          NaN   \n",
      "1  2020 RMR Challengers 2024-10-05  0.219        0.207          NaN   \n",
      "2  2020 RMR Challengers 2024-10-06  0.224        0.219        0.207   \n",
      "3  2020 RMR Challengers 2024-10-07  0.209        0.224        0.219   \n",
      "4  2020 RMR Challengers 2024-10-08  0.203        0.209        0.224   \n",
      "5  2020 RMR Challengers 2024-10-09  0.194        0.203        0.209   \n",
      "6  2020 RMR Challengers 2024-10-10  0.204        0.194        0.203   \n",
      "7  2020 RMR Challengers 2024-10-11  0.212        0.204        0.194   \n",
      "8  2020 RMR Challengers 2024-10-12  0.223        0.212        0.204   \n",
      "9  2020 RMR Challengers 2024-10-13  0.234        0.223        0.212   \n",
      "\n",
      "   price_lag_3  \n",
      "0          NaN  \n",
      "1          NaN  \n",
      "2          NaN  \n",
      "3        0.207  \n",
      "4        0.219  \n",
      "5        0.224  \n",
      "6        0.209  \n",
      "7        0.203  \n",
      "8        0.194  \n",
      "9        0.204  \n"
     ]
    }
   ],
   "source": [
    "# Create lag features: prices from 1, 2, and 3 days ago PER ITEM\n",
    "# Sort by item and date to ensure correct order\n",
    "df_item_daily = df_item_daily.sort_values(['item_name', 'Date'])\n",
    "\n",
    "# Create lag features for each item\n",
    "df_item_daily['price_lag_1'] = df_item_daily.groupby('item_name')['price'].shift(1)\n",
    "df_item_daily['price_lag_2'] = df_item_daily.groupby('item_name')['price'].shift(2)\n",
    "df_item_daily['price_lag_3'] = df_item_daily.groupby('item_name')['price'].shift(3)\n",
    "\n",
    "print(f\" Created lag features\")\n",
    "print(f\"   - price_lag_1 (yesterday's price)\")\n",
    "print(f\"   - price_lag_2 (price from 2 days ago)\")\n",
    "print(f\"   - price_lag_3 (price from 3 days ago)\")\n",
    "print(f\"\\n Example for first item (showing lag effect):\")\n",
    "print(df_item_daily[['item_name', 'Date', 'price', 'price_lag_1', 'price_lag_2', 'price_lag_3']].head(10))\n"
   ]
  },
  {
   "cell_type": "markdown",
   "id": "484e1b22",
   "metadata": {},
   "source": [
    "#### Remove first 3 day 50x3=150 row"
   ]
  },
  {
   "cell_type": "code",
   "execution_count": null,
   "id": "0fd47fce",
   "metadata": {},
   "outputs": [
    {
     "name": "stdout",
     "output_type": "stream",
     "text": [
      " Missing values check:\n",
      " Rows before dropping NaN: 16,872\n",
      " Rows after dropping NaN: 16,722\n",
      " Rows removed: 150 (first 3 days per item)\n",
      "\n",
      "Clean dataset with lag feature ready!\n"
     ]
    }
   ],
   "source": [
    "# Check for NaN values from lag feature\n",
    "print(f\" Missing values check:\")\n",
    "print(f\" Rows before dropping NaN: {len(df_item_daily):,}\")\n",
    "\n",
    "# Drop rows with NaN (first 3 days per item won't have lag_3)\n",
    "df_item_daily = df_item_daily.dropna()\n",
    "\n",
    "print(f\" Rows after dropping NaN: {len(df_item_daily):,}\")\n",
    "print(f\" Rows removed: {16872 - len(df_item_daily):,} (first 3 days per item)\")"
   ]
  },
  {
   "cell_type": "markdown",
   "id": "b4bf3729",
   "metadata": {},
   "source": [
    "## Save Final Dataset\n",
    "\n",
    "Creating CSV with columns:\n",
    "- `item_encoded` - Numeric ID for item (0-49)\n",
    "- `price` - Price of the item (target variable)\n",
    "- `price_lag_1` - Price from 1 day ago (yesterday)\n",
    "- `price_lag_2` - Price from 2 days ago\n",
    "- `price_lag_3` - Price from 3 days ago\n",
    "- `Date` - Date\n",
    "- `Average_Players` - Player count\n",
    "- `has_tournament` - Tournament flag (0/1)\n"
   ]
  },
  {
   "cell_type": "code",
   "execution_count": 11,
   "id": "e61daaf9",
   "metadata": {},
   "outputs": [
    {
     "name": "stdout",
     "output_type": "stream",
     "text": [
      " Dataset saved to: csgo_item_level_dataset.csv\n",
      "\n",
      " Dataset Info:\n",
      "   Rows: 16,722\n",
      "   Columns: ['item_encoded', 'price', 'price_lag_1', 'price_lag_2', 'price_lag_3', 'Date', 'Average_Players', 'has_tournament']\n",
      "\n",
      " First 10 rows:\n",
      "    item_encoded  price  price_lag_1  price_lag_2  price_lag_3       Date  \\\n",
      "3              0  0.209        0.224        0.219        0.207 2024-10-07   \n",
      "4              0  0.203        0.209        0.224        0.219 2024-10-08   \n",
      "5              0  0.194        0.203        0.209        0.224 2024-10-09   \n",
      "6              0  0.204        0.194        0.203        0.209 2024-10-10   \n",
      "7              0  0.212        0.204        0.194        0.203 2024-10-11   \n",
      "8              0  0.223        0.212        0.204        0.194 2024-10-12   \n",
      "9              0  0.234        0.223        0.212        0.204 2024-10-13   \n",
      "10             0  0.235        0.234        0.223        0.212 2024-10-14   \n",
      "11             0  0.228        0.235        0.234        0.223 2024-10-15   \n",
      "12             0  0.217        0.228        0.235        0.234 2024-10-16   \n",
      "\n",
      "    Average_Players  has_tournament  \n",
      "3         1363872.0               1  \n",
      "4         1400121.0               1  \n",
      "5         1395317.0               1  \n",
      "6         1346127.0               1  \n",
      "7         1368886.0               1  \n",
      "8         1498661.0               1  \n",
      "9         1457406.0               1  \n",
      "10        1354676.0               0  \n",
      "11        1346206.0               0  \n",
      "12        1371919.0               0  \n",
      "\n",
      " Dataset stats:\n",
      "       item_encoded         price   price_lag_1   price_lag_2   price_lag_3  \\\n",
      "count  16722.000000  16722.000000  16722.000000  16722.000000  16722.000000   \n",
      "mean      24.693936      1.787397      1.786014      1.784878      1.784019   \n",
      "min        0.000000      0.076000      0.076000      0.076000      0.076000   \n",
      "25%       13.000000      0.270000      0.270000      0.269000      0.269000   \n",
      "50%       25.000000      0.545354      0.544667      0.544167      0.544167   \n",
      "75%       37.000000      2.233000      2.233000      2.233750      2.234000   \n",
      "max       49.000000     24.933000     24.933000     24.933000     24.933000   \n",
      "std       14.223913      2.724272      2.722593      2.721261      2.720715   \n",
      "\n",
      "                                Date  Average_Players  has_tournament  \n",
      "count                          16722     1.672200e+04    16722.000000  \n",
      "mean   2025-04-10 10:45:04.843918336     1.457802e+06        0.492943  \n",
      "min              2024-10-07 00:00:00     8.701356e+05        0.000000  \n",
      "25%              2025-01-10 00:00:00     1.346206e+06        0.000000  \n",
      "50%              2025-04-13 00:00:00     1.465724e+06        0.000000  \n",
      "75%              2025-07-10 00:00:00     1.621288e+06        1.000000  \n",
      "max              2025-10-03 00:00:00     1.862531e+06        1.000000  \n",
      "std                              NaN     2.155584e+05        0.499965  \n"
     ]
    }
   ],
   "source": [
    "# Create final dataset with all lag features\n",
    "final_df = df_item_daily[['item_encoded', 'price', 'price_lag_1', 'price_lag_2', 'price_lag_3', \n",
    "                           'Date', 'Average_Players', 'has_tournament']].copy()\n",
    "\n",
    "# Save to CSV\n",
    "final_df.to_csv('csv-files/csgo_item_level_dataset.csv', index=False)\n",
    "\n",
    "print(\" Dataset saved to: csgo_item_level_dataset.csv\")\n",
    "print(f\"\\n Dataset Info:\")\n",
    "print(f\"   Rows: {len(final_df):,}\")\n",
    "print(f\"   Columns: {list(final_df.columns)}\")\n",
    "print(f\"\\n First 10 rows:\")\n",
    "print(final_df.head(10))\n",
    "print(f\"\\n Dataset stats:\")\n",
    "print(final_df.describe())\n"
   ]
  }
 ],
 "metadata": {
  "kernelspec": {
   "display_name": ".venv",
   "language": "python",
   "name": "python3"
  },
  "language_info": {
   "codemirror_mode": {
    "name": "ipython",
    "version": 3
   },
   "file_extension": ".py",
   "mimetype": "text/x-python",
   "name": "python",
   "nbconvert_exporter": "python",
   "pygments_lexer": "ipython3",
   "version": "3.10.0"
  }
 },
 "nbformat": 4,
 "nbformat_minor": 5
}
