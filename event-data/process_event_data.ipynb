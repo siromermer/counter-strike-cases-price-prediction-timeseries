{
 "cells": [
  {
   "cell_type": "code",
   "execution_count": 1,
   "id": "657d9297",
   "metadata": {},
   "outputs": [],
   "source": [
    "# Import required libraries\n",
    "import pandas as pd\n",
    "import numpy as np\n",
    "import matplotlib.pyplot as plt\n",
    "import seaborn as sns\n",
    "from datetime import datetime, timedelta\n",
    "\n",
    "# Set plotting style\n",
    "plt.style.use('seaborn-v0_8-darkgrid')\n",
    "sns.set_palette(\"husl\")\n",
    "%matplotlib inline"
   ]
  },
  {
   "cell_type": "code",
   "execution_count": 2,
   "id": "96149738",
   "metadata": {},
   "outputs": [
    {
     "name": "stdout",
     "output_type": "stream",
     "text": [
      " Loaded 26 tournaments\n",
      " Date range: 2024-10-07 00:00:00 to 2025-12-14 00:00:00\n",
      "\n",
      "                       tournament_name start_date   end_date  \\\n",
      "0       Intel Extreme Masters Rio 2024 2024-10-07 2024-10-13   \n",
      "1      BLAST Premier: World Final 2024 2024-10-30 2024-11-03   \n",
      "2    Perfect World Shanghai Major 2024 2024-11-30 2024-12-15   \n",
      "3             BLAST Bounty Spring 2025 2025-01-23 2025-01-26   \n",
      "4  Intel Extreme Masters Katowice 2025 2025-01-29 2025-02-09   \n",
      "\n",
      "              date_range  prize_pool   location  \n",
      "0      Oct 07 - 13, 2024    $250,000     Brazil  \n",
      "1  Oct 30 - Nov 03, 2024  $1,000,000  Singapore  \n",
      "2  Nov 30 - Dec 15, 2024  $1,250,000      China  \n",
      "3      Jan 23 - 26, 2025    $482,500    Denmark  \n",
      "4  Jan 29 - Feb 09, 2025  $1,000,000     Poland  \n"
     ]
    }
   ],
   "source": [
    "# Load tournament data\n",
    "df_tournaments = pd.read_csv('csgo_stier_tournaments_last_year_20251004_114827.csv')\n",
    "\n",
    "# Convert date columns to datetime\n",
    "df_tournaments['start_date'] = pd.to_datetime(df_tournaments['start_date'])\n",
    "df_tournaments['end_date'] = pd.to_datetime(df_tournaments['end_date'])\n",
    "\n",
    "print(f\" Loaded {len(df_tournaments)} tournaments\")\n",
    "print(f\" Date range: {df_tournaments['start_date'].min()} to {df_tournaments['end_date'].max()}\")\n",
    "print(f\"\\n{df_tournaments.head()}\")"
   ]
  },
  {
   "cell_type": "code",
   "execution_count": 3,
   "id": "f855fbc0",
   "metadata": {},
   "outputs": [
    {
     "name": "stdout",
     "output_type": "stream",
     "text": [
      "  Created daily time series:\n",
      "  From: 2024-10-04\n",
      "  To: 2025-10-03\n",
      "  Total days: 365\n",
      "\n",
      "        Date\n",
      "0 2024-10-04\n",
      "1 2024-10-05\n",
      "2 2024-10-06\n",
      "3 2024-10-07\n",
      "4 2024-10-08\n"
     ]
    }
   ],
   "source": [
    "# Create daily time series for the last year\n",
    "# Match the same date range as price/player data\n",
    "start_date = datetime(2024, 10, 4)  # One year ago from today (Oct 4, 2025)\n",
    "end_date = datetime(2025, 10, 3)    # Yesterday\n",
    "\n",
    "# Create date range\n",
    "date_range = pd.date_range(start=start_date, end=end_date, freq='D')\n",
    "df_daily = pd.DataFrame({'Date': date_range})\n",
    "\n",
    "print(f\"  Created daily time series:\")\n",
    "print(f\"  From: {start_date.date()}\")\n",
    "print(f\"  To: {end_date.date()}\")\n",
    "print(f\"  Total days: {len(df_daily)}\")\n",
    "print(f\"\\n{df_daily.head()}\")"
   ]
  },
  {
   "cell_type": "code",
   "execution_count": 4,
   "id": "693a27bd",
   "metadata": {},
   "outputs": [
    {
     "name": "stdout",
     "output_type": "stream",
     "text": [
      " Tournament Coverage:\n",
      "  Days with tournaments: 178 (48.8%)\n",
      "  Days without tournaments: 187 (51.2%)\n",
      "\n",
      " Sample days with tournaments:\n",
      "         Date                  tournament_name  prize_pool\n",
      "3  2024-10-07   Intel Extreme Masters Rio 2024    $250,000\n",
      "4  2024-10-08   Intel Extreme Masters Rio 2024    $250,000\n",
      "5  2024-10-09   Intel Extreme Masters Rio 2024    $250,000\n",
      "6  2024-10-10   Intel Extreme Masters Rio 2024    $250,000\n",
      "7  2024-10-11   Intel Extreme Masters Rio 2024    $250,000\n",
      "8  2024-10-12   Intel Extreme Masters Rio 2024    $250,000\n",
      "9  2024-10-13   Intel Extreme Masters Rio 2024    $250,000\n",
      "26 2024-10-30  BLAST Premier: World Final 2024  $1,000,000\n",
      "27 2024-10-31  BLAST Premier: World Final 2024  $1,000,000\n",
      "28 2024-11-01  BLAST Premier: World Final 2024  $1,000,000\n"
     ]
    }
   ],
   "source": [
    "# Mark days with tournaments\n",
    "df_daily['has_tournament'] = 0\n",
    "df_daily['tournament_name'] = ''\n",
    "df_daily['prize_pool'] = ''\n",
    "df_daily['tournament_location'] = ''\n",
    "\n",
    "# For each tournament, mark all days in its date range\n",
    "for idx, tournament in df_tournaments.iterrows():\n",
    "    # Create mask for days within tournament date range\n",
    "    mask = (df_daily['Date'] >= tournament['start_date']) & (df_daily['Date'] <= tournament['end_date'])\n",
    "    \n",
    "    # Mark these days\n",
    "    df_daily.loc[mask, 'has_tournament'] = 1\n",
    "    df_daily.loc[mask, 'tournament_name'] = tournament['tournament_name']\n",
    "    df_daily.loc[mask, 'prize_pool'] = tournament['prize_pool']\n",
    "    df_daily.loc[mask, 'tournament_location'] = tournament['location']\n",
    "\n",
    "# Summary\n",
    "tournament_days = df_daily['has_tournament'].sum()\n",
    "non_tournament_days = len(df_daily) - tournament_days\n",
    "\n",
    "print(f\" Tournament Coverage:\")\n",
    "print(f\"  Days with tournaments: {tournament_days} ({tournament_days/len(df_daily)*100:.1f}%)\")\n",
    "print(f\"  Days without tournaments: {non_tournament_days} ({non_tournament_days/len(df_daily)*100:.1f}%)\")\n",
    "print(f\"\\n Sample days with tournaments:\")\n",
    "print(df_daily[df_daily['has_tournament'] == 1][['Date', 'tournament_name', 'prize_pool']].head(10))"
   ]
  },
  {
   "cell_type": "code",
   "execution_count": 5,
   "id": "72e82642",
   "metadata": {},
   "outputs": [
    {
     "name": "stdout",
     "output_type": "stream",
     "text": [
      " Saved to: csgo_tournament_events_daily_last_year.csv\n",
      "\n",
      " Dataset Info:\n",
      "   Total records: 365\n",
      "   Columns: ['Date', 'has_tournament']\n",
      "   Date range: 2024-10-04 to 2025-10-03\n",
      "\n",
      " Sample:\n",
      "        Date  has_tournament\n",
      "0 2024-10-04               0\n",
      "1 2024-10-05               0\n",
      "2 2024-10-06               0\n",
      "3 2024-10-07               1\n",
      "4 2024-10-08               1\n",
      "5 2024-10-09               1\n",
      "6 2024-10-10               1\n",
      "7 2024-10-11               1\n",
      "8 2024-10-12               1\n",
      "9 2024-10-13               1\n",
      "\n",
      " Ready to merge with price and player count data!\n"
     ]
    }
   ],
   "source": [
    "# Keep only essential columns for time series analysis\n",
    "df_final = df_daily[['Date', 'has_tournament']].copy()\n",
    "\n",
    "# Save to CSV for use in prediction models\n",
    "output_file = 'csgo_tournament_events_daily_last_year.csv'\n",
    "df_final.to_csv(output_file, index=False)\n",
    "\n",
    "print(f\" Saved to: {output_file}\")\n",
    "print(f\"\\n Dataset Info:\")\n",
    "print(f\"   Total records: {len(df_final)}\")\n",
    "print(f\"   Columns: {list(df_final.columns)}\")\n",
    "print(f\"   Date range: {df_final['Date'].min().date()} to {df_final['Date'].max().date()}\")\n",
    "print(f\"\\n Sample:\")\n",
    "print(df_final.head(10))\n",
    "print(f\"\\n Ready to merge with price and player count data!\")"
   ]
  },
  {
   "cell_type": "code",
   "execution_count": 6,
   "id": "437c1ec5",
   "metadata": {},
   "outputs": [
    {
     "data": {
      "text/html": [
       "<div>\n",
       "<style scoped>\n",
       "    .dataframe tbody tr th:only-of-type {\n",
       "        vertical-align: middle;\n",
       "    }\n",
       "\n",
       "    .dataframe tbody tr th {\n",
       "        vertical-align: top;\n",
       "    }\n",
       "\n",
       "    .dataframe thead th {\n",
       "        text-align: right;\n",
       "    }\n",
       "</style>\n",
       "<table border=\"1\" class=\"dataframe\">\n",
       "  <thead>\n",
       "    <tr style=\"text-align: right;\">\n",
       "      <th></th>\n",
       "      <th>Date</th>\n",
       "      <th>has_tournament</th>\n",
       "    </tr>\n",
       "  </thead>\n",
       "  <tbody>\n",
       "    <tr>\n",
       "      <th>0</th>\n",
       "      <td>2024-10-04</td>\n",
       "      <td>0</td>\n",
       "    </tr>\n",
       "    <tr>\n",
       "      <th>1</th>\n",
       "      <td>2024-10-05</td>\n",
       "      <td>0</td>\n",
       "    </tr>\n",
       "    <tr>\n",
       "      <th>2</th>\n",
       "      <td>2024-10-06</td>\n",
       "      <td>0</td>\n",
       "    </tr>\n",
       "    <tr>\n",
       "      <th>3</th>\n",
       "      <td>2024-10-07</td>\n",
       "      <td>1</td>\n",
       "    </tr>\n",
       "    <tr>\n",
       "      <th>4</th>\n",
       "      <td>2024-10-08</td>\n",
       "      <td>1</td>\n",
       "    </tr>\n",
       "  </tbody>\n",
       "</table>\n",
       "</div>"
      ],
      "text/plain": [
       "         Date  has_tournament\n",
       "0  2024-10-04               0\n",
       "1  2024-10-05               0\n",
       "2  2024-10-06               0\n",
       "3  2024-10-07               1\n",
       "4  2024-10-08               1"
      ]
     },
     "execution_count": 6,
     "metadata": {},
     "output_type": "execute_result"
    }
   ],
   "source": [
    "pd.read_csv(\"csgo_tournament_events_daily_last_year.csv\").head()"
   ]
  }
 ],
 "metadata": {
  "kernelspec": {
   "display_name": ".venv",
   "language": "python",
   "name": "python3"
  },
  "language_info": {
   "codemirror_mode": {
    "name": "ipython",
    "version": 3
   },
   "file_extension": ".py",
   "mimetype": "text/x-python",
   "name": "python",
   "nbconvert_exporter": "python",
   "pygments_lexer": "ipython3",
   "version": "3.10.0"
  }
 },
 "nbformat": 4,
 "nbformat_minor": 5
}
