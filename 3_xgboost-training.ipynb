{
 "cells": [
  {
   "cell_type": "markdown",
   "id": "6a44e60a",
   "metadata": {},
   "source": [
    "# CS:GO Price Prediction - XGBoost Model\n",
    "\n",
    "Training an XGBoost model to predict CS:GO weapon case prices using:\n",
    "- **Lag features**: price_lag_1, price_lag_2, price_lag_3 (last 3 days of prices)\n",
    "- **Player activity**: Average_Players (daily player count)\n",
    "- **Tournament events**: has_tournament (S-Tier tournament indicator)\n",
    "- **Item encoding**: item_encoded (50 weapon cases)\n",
    "\n",
    "**Target**: Next day's price"
   ]
  },
  {
   "cell_type": "code",
   "execution_count": 1,
   "id": "fd5cc408",
   "metadata": {},
   "outputs": [
    {
     "name": "stdout",
     "output_type": "stream",
     "text": [
      "XGBoost version: 3.0.5\n"
     ]
    }
   ],
   "source": [
    "# Import libraries\n",
    "import pandas as pd\n",
    "import numpy as np\n",
    "import matplotlib.pyplot as plt\n",
    "import seaborn as sns\n",
    "import xgboost as xgb\n",
    "from sklearn.model_selection import train_test_split, GridSearchCV, TimeSeriesSplit\n",
    "from sklearn.metrics import mean_absolute_error, mean_squared_error, r2_score\n",
    "import pickle\n",
    "import time\n",
    "\n",
    "# Set plotting style\n",
    "plt.style.use('seaborn-v0_8-darkgrid')\n",
    "sns.set_palette(\"husl\")\n",
    "\n",
    "print(f\"XGBoost version: {xgb.__version__}\")\n"
   ]
  },
  {
   "cell_type": "code",
   "execution_count": 3,
   "id": "50dad559",
   "metadata": {},
   "outputs": [
    {
     "name": "stdout",
     "output_type": "stream",
     "text": [
      "\n",
      "Total records: 16,722\n",
      " Features: ['item_encoded', 'price', 'price_lag_1', 'price_lag_2', 'price_lag_3', 'Date', 'Average_Players', 'has_tournament']\n",
      "\n",
      "Date range: 2024-10-07 to 2025-10-03\n",
      "\n",
      "First 5 rows:\n",
      "   item_encoded  price  price_lag_1  price_lag_2  price_lag_3        Date  \\\n",
      "0             0  0.209        0.224        0.219        0.207  2024-10-07   \n",
      "1             0  0.203        0.209        0.224        0.219  2024-10-08   \n",
      "2             0  0.194        0.203        0.209        0.224  2024-10-09   \n",
      "3             0  0.204        0.194        0.203        0.209  2024-10-10   \n",
      "4             0  0.212        0.204        0.194        0.203  2024-10-11   \n",
      "\n",
      "   Average_Players  has_tournament  \n",
      "0        1363872.0               1  \n",
      "1        1400121.0               1  \n",
      "2        1395317.0               1  \n",
      "3        1346127.0               1  \n",
      "4        1368886.0               1  \n",
      "\n",
      "Dataset info:\n",
      "<class 'pandas.core.frame.DataFrame'>\n",
      "RangeIndex: 16722 entries, 0 to 16721\n",
      "Data columns (total 8 columns):\n",
      " #   Column           Non-Null Count  Dtype  \n",
      "---  ------           --------------  -----  \n",
      " 0   item_encoded     16722 non-null  int64  \n",
      " 1   price            16722 non-null  float64\n",
      " 2   price_lag_1      16722 non-null  float64\n",
      " 3   price_lag_2      16722 non-null  float64\n",
      " 4   price_lag_3      16722 non-null  float64\n",
      " 5   Date             16722 non-null  object \n",
      " 6   Average_Players  16722 non-null  float64\n",
      " 7   has_tournament   16722 non-null  int64  \n",
      "dtypes: float64(5), int64(2), object(1)\n",
      "memory usage: 1.0+ MB\n",
      "None\n",
      "\n",
      "Dataset statistics:\n",
      "       item_encoded         price   price_lag_1   price_lag_2   price_lag_3  \\\n",
      "count  16722.000000  16722.000000  16722.000000  16722.000000  16722.000000   \n",
      "mean      24.693936      1.787397      1.786014      1.784878      1.784019   \n",
      "std       14.223913      2.724272      2.722593      2.721261      2.720715   \n",
      "min        0.000000      0.076000      0.076000      0.076000      0.076000   \n",
      "25%       13.000000      0.270000      0.270000      0.269000      0.269000   \n",
      "50%       25.000000      0.545354      0.544667      0.544167      0.544167   \n",
      "75%       37.000000      2.233000      2.233000      2.233750      2.234000   \n",
      "max       49.000000     24.933000     24.933000     24.933000     24.933000   \n",
      "\n",
      "       Average_Players  has_tournament  \n",
      "count     1.672200e+04    16722.000000  \n",
      "mean      1.457802e+06        0.492943  \n",
      "std       2.155584e+05        0.499965  \n",
      "min       8.701356e+05        0.000000  \n",
      "25%       1.346206e+06        0.000000  \n",
      "50%       1.465724e+06        0.000000  \n",
      "75%       1.621288e+06        1.000000  \n",
      "max       1.862531e+06        1.000000  \n"
     ]
    }
   ],
   "source": [
    "# Load the dataset\n",
    "df = pd.read_csv('csv-files/csgo_item_level_dataset.csv')\n",
    "\n",
    "print(f\"\\nTotal records: {len(df):,}\")\n",
    "print(f\" Features: {list(df.columns)}\")\n",
    "print(f\"\\nDate range: {df['Date'].min()} to {df['Date'].max()}\")\n",
    "print(f\"\\nFirst 5 rows:\")\n",
    "print(df.head())\n",
    "print(f\"\\nDataset info:\")\n",
    "print(df.info())\n",
    "print(f\"\\nDataset statistics:\")\n",
    "print(df.describe())"
   ]
  },
  {
   "cell_type": "markdown",
   "id": "1a6eff89",
   "metadata": {},
   "source": [
    "<br>"
   ]
  },
  {
   "cell_type": "markdown",
   "id": "637cbe9a",
   "metadata": {},
   "source": [
    "### Adjust features and target"
   ]
  },
  {
   "cell_type": "code",
   "execution_count": 4,
   "id": "53ad3271",
   "metadata": {},
   "outputs": [],
   "source": [
    "\"\"\"\n",
    "Prepare features and target\n",
    "Features: item_encoded, lag features, player count, tournament flag\n",
    "Target: price \n",
    "\"\"\"\n",
    "\n",
    "feature_cols = ['item_encoded', 'price_lag_1', 'price_lag_2', 'price_lag_3', 'Average_Players', 'has_tournament']\n",
    "target_col = 'price'\n",
    "\n",
    "X = df[feature_cols]\n",
    "y = df[target_col]"
   ]
  },
  {
   "cell_type": "markdown",
   "id": "c0235220",
   "metadata": {},
   "source": [
    "<br>"
   ]
  },
  {
   "cell_type": "markdown",
   "id": "60a00c14",
   "metadata": {},
   "source": [
    "### Split to train and test"
   ]
  },
  {
   "cell_type": "code",
   "execution_count": 5,
   "id": "395ac1b2",
   "metadata": {},
   "outputs": [
    {
     "name": "stdout",
     "output_type": "stream",
     "text": [
      "\n",
      " Training set:\n",
      "   X_train: (13377, 6)\n",
      "   y_train: (13377,)\n",
      "   Date range: 2024-10-07 to 2025-07-28\n",
      "\n",
      " Test set:\n",
      "   X_test: (3345, 6)\n",
      "   y_test: (3345,)\n",
      "   Date range: 2025-07-28 to 2025-10-03\n",
      "\n",
      " Data types:\n",
      "item_encoded       category\n",
      "price_lag_1         float64\n",
      "price_lag_2         float64\n",
      "price_lag_3         float64\n",
      "Average_Players     float64\n",
      "has_tournament        int64\n",
      "dtype: object\n"
     ]
    }
   ],
   "source": [
    "# Sort by date first\n",
    "df_sorted = df.sort_values('Date').reset_index(drop=True)\n",
    "\n",
    "# Calculate split point (80% for training)\n",
    "split_idx = int(len(df_sorted) * 0.8)\n",
    "\n",
    "# Split chronologically\n",
    "train_data = df_sorted.iloc[:split_idx]\n",
    "test_data = df_sorted.iloc[split_idx:]\n",
    "\n",
    "# Extract features and target\n",
    "X_train = train_data[feature_cols].copy()\n",
    "y_train = train_data[target_col]\n",
    "X_test = test_data[feature_cols].copy()\n",
    "y_test = test_data[target_col]\n",
    "\n",
    "# Convert item_encoded to category (not numeric sequence)\n",
    "X_train['item_encoded'] = X_train['item_encoded'].astype('category')\n",
    "X_test['item_encoded'] = X_test['item_encoded'].astype('category')\n",
    "\n",
    "print(f\"\\n Training set:\")\n",
    "print(f\"   X_train: {X_train.shape}\")\n",
    "print(f\"   y_train: {y_train.shape}\")\n",
    "print(f\"   Date range: {train_data['Date'].min()} to {train_data['Date'].max()}\")\n",
    "\n",
    "print(f\"\\n Test set:\")\n",
    "print(f\"   X_test: {X_test.shape}\")\n",
    "print(f\"   y_test: {y_test.shape}\")\n",
    "print(f\"   Date range: {test_data['Date'].min()} to {test_data['Date'].max()}\")\n",
    "\n",
    "print(f\"\\n Data types:\")\n",
    "print(X_train.dtypes)\n"
   ]
  },
  {
   "cell_type": "markdown",
   "id": "75b066b1",
   "metadata": {},
   "source": [
    "<br>\n",
    "\n",
    "#### Hyperparameter Tuning with GridSearchCV\n",
    "\n",
    "Before training with fixed parameters, let's try to find the best parameters using GridSearchCV"
   ]
  },
  {
   "cell_type": "code",
   "execution_count": 6,
   "id": "5e7b2bcc",
   "metadata": {},
   "outputs": [
    {
     "name": "stdout",
     "output_type": "stream",
     "text": [
      "\n",
      "Parameter grid:\n",
      "   n_estimators: [50, 100, 150]\n",
      "   max_depth: [4, 6, 8]\n",
      "   learning_rate: [0.05, 0.1, 0.2]\n",
      "   subsample: [0.7, 0.8, 0.9]\n",
      "   colsample_bytree: [0.7, 0.8, 0.9]\n",
      "Fitting 3 folds for each of 243 candidates, totalling 729 fits\n",
      "\n",
      "Best parameters found:\n",
      "   colsample_bytree: 0.7\n",
      "   learning_rate: 0.2\n",
      "   max_depth: 4\n",
      "   n_estimators: 50\n",
      "   subsample: 0.8\n",
      "\n",
      "Best cross-validation score (MAE): $0.1210\n"
     ]
    }
   ],
   "source": [
    "# GridSearchCV --> Find the best hyperparameters\n",
    "\n",
    "# Define the parameter grid to search\n",
    "param_grid = {\n",
    "    'n_estimators': [50, 100, 150],           # Number of trees\n",
    "    'max_depth': [4, 6, 8],                   # Tree depth\n",
    "    'learning_rate': [0.05, 0.1, 0.2],        # Learning rate\n",
    "    'subsample': [0.7, 0.8, 0.9],             # Subsample ratio\n",
    "    'colsample_bytree': [0.7, 0.8, 0.9]       # Feature subsample ratio\n",
    "}\n",
    "\n",
    "# Create base model with categorical support\n",
    "base_model = xgb.XGBRegressor(\n",
    "    random_state=42,\n",
    "    objective='reg:squarederror',\n",
    "    tree_method='hist',          # Required for categorical features\n",
    "    enable_categorical=True      # Enable categorical feature support\n",
    ")\n",
    "\n",
    "# TimeSeriesSplit for proper time series cross-validation\n",
    "# This ensures we always train on past data and validate on future data\n",
    "tscv = TimeSeriesSplit(n_splits=3)\n",
    "\n",
    "# Create GridSearchCV object with TimeSeriesSplit\n",
    "grid_search = GridSearchCV(\n",
    "    estimator=base_model,          # XGBoost regressor\n",
    "    param_grid=param_grid,         # use param_grid dictionary\n",
    "    cv=tscv,                       # Time series cross-validation (not random)\n",
    "    scoring='neg_mean_absolute_error',  # Minimize MAE, since this is a regression problem\n",
    "    verbose=1,                     # Show progress\n",
    "    n_jobs=-1                      # Use all CPU cores, change this depending on your hardware\n",
    ")\n",
    "\n",
    "print(f\"\\nParameter grid:\")\n",
    "for param, values in param_grid.items():\n",
    "    print(f\"   {param}: {values}\")\n",
    "\n",
    "# Calculate total combinations\n",
    "total_combinations = 1\n",
    "for param, values in param_grid.items():\n",
    "    total_combinations *= len(values)\n",
    "\n",
    "# Fit GridSearchCV\n",
    "grid_search.fit(X_train, y_train)\n",
    "\n",
    "print(f\"\\nBest parameters found:\")\n",
    "for param, value in grid_search.best_params_.items():\n",
    "    print(f\"   {param}: {value}\")\n",
    "\n",
    "print(f\"\\nBest cross-validation score (MAE): ${-grid_search.best_score_:.4f}\")\n",
    "\n",
    "# Get the best model\n",
    "model = grid_search.best_estimator_\n"
   ]
  },
  {
   "cell_type": "markdown",
   "id": "5dfa1d94",
   "metadata": {},
   "source": [
    "<br>\n",
    "\n",
    "### Model training metrics"
   ]
  },
  {
   "cell_type": "code",
   "execution_count": 7,
   "id": "a29db45d",
   "metadata": {},
   "outputs": [
    {
     "name": "stdout",
     "output_type": "stream",
     "text": [
      "TRAINING SET:\n",
      "   MAE (Mean Absolute Error):  $0.0363\n",
      "   RMSE (Root Mean Squared):   $0.0987\n",
      "   R² Score:                   0.9985\n",
      "\n",
      "TEST SET:\n",
      "   MAE (Mean Absolute Error):  $0.0672\n",
      "   RMSE (Root Mean Squared):   $0.1893\n",
      "   R² Score:                   0.9965\n"
     ]
    }
   ],
   "source": [
    "# Make predictions\n",
    "y_train_pred = model.predict(X_train)\n",
    "y_test_pred = model.predict(X_test)\n",
    "\n",
    "# Calculate evaluation metrics\n",
    "train_mae = mean_absolute_error(y_train, y_train_pred)\n",
    "train_rmse = np.sqrt(mean_squared_error(y_train, y_train_pred))\n",
    "train_r2 = r2_score(y_train, y_train_pred)\n",
    "\n",
    "test_mae = mean_absolute_error(y_test, y_test_pred)\n",
    "test_rmse = np.sqrt(mean_squared_error(y_test, y_test_pred))\n",
    "test_r2 = r2_score(y_test, y_test_pred)\n",
    "\n",
    "\n",
    "print(f\"TRAINING SET:\")\n",
    "print(f\"   MAE (Mean Absolute Error):  ${train_mae:.4f}\")\n",
    "print(f\"   RMSE (Root Mean Squared):   ${train_rmse:.4f}\")\n",
    "print(f\"   R² Score:                   {train_r2:.4f}\\n\")\n",
    "\n",
    "print(f\"TEST SET:\")\n",
    "print(f\"   MAE (Mean Absolute Error):  ${test_mae:.4f}\")\n",
    "print(f\"   RMSE (Root Mean Squared):   ${test_rmse:.4f}\")\n",
    "print(f\"   R² Score:                   {test_r2:.4f}\")"
   ]
  },
  {
   "cell_type": "markdown",
   "id": "e60db6cf",
   "metadata": {},
   "source": [
    "<br>\n",
    "\n",
    "### Feature Importance"
   ]
  },
  {
   "cell_type": "code",
   "execution_count": 8,
   "id": "c7474d98",
   "metadata": {},
   "outputs": [
    {
     "name": "stdout",
     "output_type": "stream",
     "text": [
      "Feature Importance (Gain-based):\n",
      "        feature  importance\n",
      "    price_lag_1    0.498768\n",
      "    price_lag_2    0.409161\n",
      "    price_lag_3    0.086271\n",
      "   item_encoded    0.003195\n",
      "Average_Players    0.001892\n",
      " has_tournament    0.000712\n",
      "\n"
     ]
    },
    {
     "data": {
      "image/png": "[encoded data removed]",
      "text/plain": [
       "<Figure size 800x500 with 1 Axes>"
      ]
     },
     "metadata": {},
     "output_type": "display_data"
    }
   ],
   "source": [
    "# Feature importance\n",
    "feature_importance = pd.DataFrame({\n",
    "    'feature': feature_cols,\n",
    "    'importance': model.feature_importances_\n",
    "}).sort_values('importance', ascending=False)\n",
    "\n",
    "print(\"Feature Importance (Gain-based):\")\n",
    "print(feature_importance.to_string(index=False))\n",
    "print()\n",
    "\n",
    "# Visualize feature importance\n",
    "plt.figure(figsize=(8, 5))\n",
    "plt.barh(feature_importance['feature'], feature_importance['importance'], color='steelblue')\n",
    "plt.xlabel('Importance Score')\n",
    "plt.title('Feature Importance - XGBoost Model')\n",
    "plt.gca().invert_yaxis()\n",
    "plt.tight_layout()\n",
    "plt.show()\n"
   ]
  },
  {
   "cell_type": "markdown",
   "id": "f1df0b50",
   "metadata": {},
   "source": [
    "<br>\n",
    "\n",
    "#### Save the Model"
   ]
  },
  {
   "cell_type": "code",
   "execution_count": 10,
   "id": "0c6ad766",
   "metadata": {},
   "outputs": [
    {
     "name": "stdout",
     "output_type": "stream",
     "text": [
      " Model saved: csgo_price_prediction_model_xgboost.pkl\n"
     ]
    }
   ],
   "source": [
    "# Save the trained model\n",
    "model_filename = 'csgo_price_prediction_model_xgboost.pkl'\n",
    "with open(model_filename, 'wb') as f:\n",
    "    pickle.dump(model, f)\n",
    "\n",
    "print(f\" Model saved: {model_filename}\")"
   ]
  },
  {
   "cell_type": "markdown",
   "id": "183c44f7",
   "metadata": {},
   "source": [
    "<br><br>"
   ]
  },
  {
   "cell_type": "markdown",
   "id": "3846f68c",
   "metadata": {},
   "source": [
    "---\n",
    "\n",
    "## Make Predictions\n",
    "\n",
    "Purpose is the predict tomorrows price\n",
    "\n",
    "####  What You Need to Provide (6 inputs):\n",
    "\n",
    "```\n",
    "TODAY is: October 4, 2025\n",
    "YOU WANT: October 5, 2025 price\n",
    "\n",
    "INPUTS YOU PROVIDE:\n",
    "1. Item name               → \"Dreams & Nightmares Case\"\n",
    "2. Today's price (Oct 4)   → $0.35  (this becomes price_lag_1)\n",
    "3. Yesterday's price (Oct 3) → $0.34  (this becomes price_lag_2)\n",
    "4. 2 days ago price (Oct 2)  → $0.33  (this becomes price_lag_3)\n",
    "5. Avg players today         → 1,500,000\n",
    "6. Has tournament today      → 0 (No) or 1 (Yes)\n",
    "\n",
    "OUTPUT YOU GET:\n",
    "- Predicted price for TOMORROW (Oct 5) → $0.349\n",
    "```\n"
   ]
  },
  {
   "cell_type": "markdown",
   "id": "2d02a6e7",
   "metadata": {},
   "source": [
    "<br>"
   ]
  },
  {
   "cell_type": "code",
   "execution_count": 11,
   "id": "7c035b6d",
   "metadata": {},
   "outputs": [
    {
     "name": "stdout",
     "output_type": "stream",
     "text": [
      "\n",
      "Available items (50):\n",
      "\n",
      "First 10 items:\n",
      "    0: 2020 RMR Challengers\n",
      "    1: 2020 RMR Contenders\n",
      "    2: 2020 RMR Legends\n",
      "    3: Antwerp 2022 Challengers Autograph Capsule\n",
      "    4: Antwerp 2022 Challengers Sticker Capsule\n",
      "    5: Antwerp 2022 Contenders Sticker Capsule\n",
      "    6: Antwerp 2022 Legends Sticker Capsule\n",
      "    7: Austin 2025 Challengers Sticker Capsule\n",
      "    8: Austin 2025 Contenders Sticker Capsule\n",
      "    9: Austin 2025 Legends Sticker Capsule\n",
      "   ...\n",
      "\n",
      "Last 5 items:\n",
      "   45: Shanghai 2024 Contenders Autograph Capsule\n",
      "   46: Shanghai 2024 Legends Autograph Capsule\n",
      "   47: Snakebite Case\n",
      "   48: Spectrum 2 Case\n",
      "   49: Spectrum Case\n"
     ]
    }
   ],
   "source": [
    "# Load item mapping to get item names\n",
    "with open('csv-files/item_mapping.pkl', 'rb') as f:\n",
    "    mapping = pickle.load(f)\n",
    "    item_to_id = mapping['item_to_id']\n",
    "    id_to_item = mapping['id_to_item']\n",
    "\n",
    "\n",
    "print(f\"\\nAvailable items ({len(item_to_id)}):\")\n",
    "print(\"\\nFirst 10 items:\")\n",
    "for i, (item_name, item_id) in enumerate(sorted(item_to_id.items())[:10]):\n",
    "    print(f\"   {item_id:2d}: {item_name}\")\n",
    "print(\"   ...\")\n",
    "print(\"\\nLast 5 items:\")\n",
    "for i, (item_name, item_id) in enumerate(sorted(item_to_id.items())[-5:]):\n",
    "    print(f\"   {item_id:2d}: {item_name}\")"
   ]
  },
  {
   "cell_type": "markdown",
   "id": "58fbc0f5",
   "metadata": {},
   "source": [
    "<br>\n",
    "\n",
    "### Prediction"
   ]
  },
  {
   "cell_type": "code",
   "execution_count": 12,
   "id": "9c7d67c4",
   "metadata": {},
   "outputs": [
    {
     "name": "stdout",
     "output_type": "stream",
     "text": [
      "\n",
      " Item: Kilowatt Case\n",
      "\n",
      " Input \n",
      "   Today price: $0.320\n",
      "   Yesterday price: $0.360\n",
      "   2 days ago price: $0.400\n",
      "   Players today: 1,500,000\n",
      "   Tournament today: 1\n",
      "\n",
      " OUTPUT\n",
      "   Tomorrow's  predicted price: $0.339\n",
      "   Expected change:  (+5.84%)\n"
     ]
    }
   ],
   "source": [
    "# Example: Custom prediction function\n",
    "def predict_item_price(item_name, price_lag_1, price_lag_2, price_lag_3, \n",
    "                       avg_players=1500000, has_tournament=0):\n",
    "    \"\"\"\n",
    "    Predict TOMORROW'S price for a specific CS:GO item.\n",
    "    \n",
    "    Parameters (What user provides):\n",
    "    -----------\n",
    "    item_name : str\n",
    "        Name of the CS:GO weapon case\n",
    "        Example: \"Dreams & Nightmares Case\"\n",
    "    \n",
    "    price_lag_1 : float\n",
    "        TODAY'S price (e.g., Oct 4 if predicting Oct 5)\n",
    "        Example: 0.35\n",
    "    \n",
    "    price_lag_2 : float\n",
    "        YESTERDAY'S price (e.g., Oct 3 if predicting Oct 5)\n",
    "        Example: 0.34\n",
    "    \n",
    "    price_lag_3 : float\n",
    "        Price from 2 DAYS AGO (e.g., Oct 2 if predicting Oct 5)\n",
    "        Example: 0.33\n",
    "    \n",
    "    avg_players : int\n",
    "        Average players TODAY (default: 1,500,000)\n",
    "        Example: 1500000\n",
    "    \n",
    "    has_tournament : int\n",
    "        Is there a tournament TODAY? 0 = No, 1 = Yes (default: 0)\n",
    "        Example: 0\n",
    "    \n",
    "    Returns:\n",
    "    --------\n",
    "    float : Predicted price for TOMORROW\n",
    "    \n",
    "    Example Usage:\n",
    "    --------------\n",
    "    # It's Oct 4, you want to predict Oct 5\n",
    "    predicted = predict_item_price(\n",
    "        item_name=\"Dreams & Nightmares Case\",\n",
    "        price_lag_1=0.35,  # Oct 4 (today)\n",
    "        price_lag_2=0.34,  # Oct 3 (yesterday)\n",
    "        price_lag_3=0.33,  # Oct 2 (2 days ago)\n",
    "        avg_players=1500000,\n",
    "        has_tournament=0\n",
    "    )\n",
    "    # Output: 0.349 (predicted price for Oct 5)\n",
    "    \"\"\"\n",
    "    \n",
    "    # Get item ID\n",
    "    if item_name not in item_to_id:\n",
    "        raise ValueError(f\"Item '{item_name}' not found. Check spelling or see available items.\")\n",
    "    \n",
    "    item_id = item_to_id[item_name]\n",
    "    \n",
    "    # Prepare features\n",
    "    features = pd.DataFrame({\n",
    "        'item_encoded': [item_id],\n",
    "        'price_lag_1': [price_lag_1],\n",
    "        'price_lag_2': [price_lag_2],\n",
    "        'price_lag_3': [price_lag_3],\n",
    "        'Average_Players': [avg_players],\n",
    "        'has_tournament': [has_tournament]\n",
    "    })\n",
    "    \n",
    "    # Convert item_encoded to category\n",
    "    features['item_encoded'] = features['item_encoded'].astype('category')\n",
    "    \n",
    "    # Predict\n",
    "    prediction = model.predict(features)[0]\n",
    "    \n",
    "    return prediction\n",
    "\n",
    "\n",
    "item = \"Kilowatt Case\"\n",
    "today_price = 0.32    # TODAY (Oct 4)\n",
    "yesterday_price = 0.36    # YESTERDAY (Oct 3)\n",
    "two_days_ago_price = 0.40    # 2 DAYS AGO (Oct 2)\n",
    "has_tournament = 1\n",
    "\n",
    "predicted = predict_item_price(\n",
    "    item_name=item,\n",
    "    price_lag_1=today_price,  # Today\n",
    "    price_lag_2=yesterday_price,  # Yesterday\n",
    "    price_lag_3=two_days_ago_price,  # 2 days ago\n",
    "    avg_players=1560000,\n",
    "    has_tournament=1\n",
    ")\n",
    "\n",
    "print(f\"\\n Item: {item}\")\n",
    "\n",
    "print(f\"\\n Input \")\n",
    "print(f\"   Today price: ${today_price:.3f}\")\n",
    "print(f\"   Yesterday price: ${yesterday_price:.3f}\")\n",
    "print(f\"   2 days ago price: ${two_days_ago_price:.3f}\")\n",
    "print(f\"   Players today: 1,500,000\")\n",
    "print(f\"   Tournament today: {has_tournament}\")\n",
    "print(f\"\\n OUTPUT\")\n",
    "print(f\"   Tomorrow's  predicted price: ${predicted:.3f}\")\n",
    "print(f\"   Expected change:  ({((predicted/today_price)-1)*100:+.2f}%)\")"
   ]
  }
 ],
 "metadata": {
  "kernelspec": {
   "display_name": ".venv",
   "language": "python",
   "name": "python3"
  },
  "language_info": {
   "codemirror_mode": {
    "name": "ipython",
    "version": 3
   },
   "file_extension": ".py",
   "mimetype": "text/x-python",
   "name": "python",
   "nbconvert_exporter": "python",
   "pygments_lexer": "ipython3",
   "version": "3.10.0"
  }
 },
 "nbformat": 4,
 "nbformat_minor": 5
}
